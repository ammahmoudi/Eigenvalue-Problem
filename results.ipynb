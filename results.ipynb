{
 "cells": [
  {
   "cell_type": "code",
   "execution_count": 13,
   "metadata": {},
   "outputs": [],
   "source": [
    "import numpy as np\n",
    "import matplotlib as plt\n",
    "import plotly as plx\n",
    "import methods\n",
    "import matrix_tools as mt\n"
   ]
  },
  {
   "cell_type": "code",
   "execution_count": 14,
   "metadata": {},
   "outputs": [],
   "source": [
    "size=1600\n",
    "sparsity=1e-4\n",
    "scale=1e+2"
   ]
  },
  {
   "cell_type": "code",
   "execution_count": 15,
   "metadata": {},
   "outputs": [],
   "source": [
    "matrices={\n",
    "    'random_sparse':mt.random_sparse(size,sparsity=sparsity),\n",
    "    'symetric_sparse':mt.symmetric_sparse(size,sparsity=sparsity),\n",
    "    'diagonal_dominant':mt.digaonal_dominant(size,sparsity=sparsity),\n",
    "    'diagonal_non_tda':mt.diag_non_tda(size,sparsity=sparsity),     \n",
    "          }"
   ]
  },
  {
   "cell_type": "code",
   "execution_count": 16,
   "metadata": {},
   "outputs": [],
   "source": [
    "methods_list={\n",
    "    'numpy.eig':methods.numpy_eigen,\n",
    "    'power_iteration':methods.power_iteration,\n",
    "    'davidson_1':methods.davidson,\n",
    "    'davidson_2':methods.davidson_2,\n",
    "    'davidson_3':methods.davidson_3,\n",
    "    'davidson_4':methods.davidson_4,\n",
    "    'davidson_4_jacobi':methods.davidson_4,\n",
    "    'davidson_4_hamiltonian':methods.davidson_4,\n",
    "    'davidson_4_nonhermitian':methods.davidson_4,\n",
    "         }"
   ]
  },
  {
   "cell_type": "code",
   "execution_count": 17,
   "metadata": {},
   "outputs": [
    {
     "name": "stdout",
     "output_type": "stream",
     "text": [
      "just the first iteration, give me a break\n",
      "power iteration converged at iteration number: 9\n",
      "power iteration dominant eigenvalue= 79968.24208618829\n",
      "exact dominant eigenvalue= (79968.24208618821+0j)\n",
      "difference: (-7.275957614183426e-11+0j)\n"
     ]
    },
    {
     "data": {
      "text/plain": [
       "79968.24208618829"
      ]
     },
     "execution_count": 17,
     "metadata": {},
     "output_type": "execute_result"
    }
   ],
   "source": [
    "methods_list['power_iteration'](matrices['random_sparse'])"
   ]
  },
  {
   "cell_type": "code",
   "execution_count": 19,
   "metadata": {},
   "outputs": [
    {
     "name": "stdout",
     "output_type": "stream",
     "text": [
      "numpy =  [79968.24208619+0.j] ; 4.3076090812683105 seconds\n"
     ]
    },
    {
     "data": {
      "text/plain": [
       "(array([79968.24208619+0.j]),\n",
       " array([[-0.02504592+0.j        ,  0.01368307-0.01857714j,\n",
       "          0.01368307+0.01857714j, ..., -0.02802141+0.j        ,\n",
       "          0.00092924+0.02052728j,  0.00092924-0.02052728j]]))"
      ]
     },
     "execution_count": 19,
     "metadata": {},
     "output_type": "execute_result"
    }
   ],
   "source": [
    "methods_list['numpy.eig'](matrices['random_sparse'],l=size-1,u=size)"
   ]
  }
 ],
 "metadata": {
  "kernelspec": {
   "display_name": "Python 3",
   "language": "python",
   "name": "python3"
  },
  "language_info": {
   "codemirror_mode": {
    "name": "ipython",
    "version": 3
   },
   "file_extension": ".py",
   "mimetype": "text/x-python",
   "name": "python",
   "nbconvert_exporter": "python",
   "pygments_lexer": "ipython3",
   "version": "3.10.11"
  }
 },
 "nbformat": 4,
 "nbformat_minor": 2
}
